{
 "cells": [
  {
   "cell_type": "code",
   "execution_count": 2,
   "metadata": {},
   "outputs": [],
   "source": [
    "import yfinance as yf\n",
    "import pandas as pd\n",
    "\n",
    "def scrape_and_export_stock_data(ticker, start_date, end_date, output_file):\n",
    "    \"\"\"\n",
    "    Fetch stock data for a specific date range and save it to a CSV file.\n",
    "\n",
    "    Args:\n",
    "        ticker (str): The stock ticker symbol (e.g., \"AAPL\" for Apple).\n",
    "        start_date (str): Start date in the format \"YYYY-MM-DD\".\n",
    "        end_date (str): End date in the format \"YYYY-MM-DD\".\n",
    "        output_file (str): The name of the output CSV file.\n",
    "\n",
    "    Returns:\n",
    "        None\n",
    "    \"\"\"\n",
    "    try:\n",
    "        # Fetch historical stock data\n",
    "        stock_data = yf.download(ticker, start=start_date, end=end_date)\n",
    "        \n",
    "        # Check if data is not empty\n",
    "        if stock_data.empty:\n",
    "            print(f\"No data found for {ticker} from {start_date} to {end_date}.\")\n",
    "            return\n",
    "        # Export data to a CSV file\n",
    "        stock_data.to_csv(output_file)\n",
    "        print(f\"Data for {ticker} from {start_date} to {end_date} has been saved to '{output_file}'.\")\n",
    "\n",
    "    except Exception as e:\n",
    "        print(f\"Error fetching data: {e}\")\n",
    "\n",
    "    output_file = f\"{ticker}_data_{start_date}_to_{end_date}.csv\"\n",
    "    \n",
    "    "
   ]
  },
  {
   "cell_type": "code",
   "execution_count": 3,
   "metadata": {},
   "outputs": [
    {
     "name": "stderr",
     "output_type": "stream",
     "text": [
      "[*********************100%***********************]  1 of 1 completed"
     ]
    },
    {
     "name": "stdout",
     "output_type": "stream",
     "text": [
      "Data for AAPL from 2010-1-1 to 2025-1-1 has been saved to 'AAPL.csv'.\n"
     ]
    },
    {
     "name": "stderr",
     "output_type": "stream",
     "text": [
      "\n"
     ]
    }
   ],
   "source": [
    "scrape_and_export_stock_data(\"AAPL\", \"2010-1-1\", \"2025-1-1\", \"AAPL.csv\")"
   ]
  },
  {
   "cell_type": "code",
   "execution_count": 5,
   "metadata": {},
   "outputs": [
    {
     "name": "stderr",
     "output_type": "stream",
     "text": [
      "[*********************100%***********************]  1 of 1 completed"
     ]
    },
    {
     "name": "stdout",
     "output_type": "stream",
     "text": [
      "MMM_2020-01-01_to_2024-11-01.csv\n",
      "Data for MMM from 2020-01-01 to 2024-11-01 has been saved to 'MMM_2020-01-01_to_2024-11-01.csv'.\n",
      "AXP_2020-01-01_to_2024-11-01.csv\n"
     ]
    },
    {
     "name": "stderr",
     "output_type": "stream",
     "text": [
      "\n",
      "[*********************100%***********************]  1 of 1 completed\n",
      "[*********************100%***********************]  1 of 1 completed"
     ]
    },
    {
     "name": "stdout",
     "output_type": "stream",
     "text": [
      "Data for AXP from 2020-01-01 to 2024-11-01 has been saved to 'AXP_2020-01-01_to_2024-11-01.csv'.\n",
      "AAPL_2020-01-01_to_2024-11-01.csv\n"
     ]
    },
    {
     "name": "stderr",
     "output_type": "stream",
     "text": [
      "\n",
      "[*********************100%***********************]  1 of 1 completed\n"
     ]
    },
    {
     "name": "stdout",
     "output_type": "stream",
     "text": [
      "Data for AAPL from 2020-01-01 to 2024-11-01 has been saved to 'AAPL_2020-01-01_to_2024-11-01.csv'.\n",
      "BA_2020-01-01_to_2024-11-01.csv\n",
      "Data for BA from 2020-01-01 to 2024-11-01 has been saved to 'BA_2020-01-01_to_2024-11-01.csv'.\n",
      "CAT_2020-01-01_to_2024-11-01.csv\n"
     ]
    },
    {
     "name": "stderr",
     "output_type": "stream",
     "text": [
      "[*********************100%***********************]  1 of 1 completed\n",
      "[*********************100%***********************]  1 of 1 completed"
     ]
    },
    {
     "name": "stdout",
     "output_type": "stream",
     "text": [
      "Data for CAT from 2020-01-01 to 2024-11-01 has been saved to 'CAT_2020-01-01_to_2024-11-01.csv'.\n",
      "CVX_2020-01-01_to_2024-11-01.csv\n"
     ]
    },
    {
     "name": "stderr",
     "output_type": "stream",
     "text": [
      "\n",
      "[*********************100%***********************]  1 of 1 completed\n"
     ]
    },
    {
     "name": "stdout",
     "output_type": "stream",
     "text": [
      "Data for CVX from 2020-01-01 to 2024-11-01 has been saved to 'CVX_2020-01-01_to_2024-11-01.csv'.\n",
      "CSCO_2020-01-01_to_2024-11-01.csv\n",
      "Data for CSCO from 2020-01-01 to 2024-11-01 has been saved to 'CSCO_2020-01-01_to_2024-11-01.csv'.\n",
      "KO_2020-01-01_to_2024-11-01.csv\n"
     ]
    },
    {
     "name": "stderr",
     "output_type": "stream",
     "text": [
      "[*********************100%***********************]  1 of 1 completed\n"
     ]
    },
    {
     "name": "stdout",
     "output_type": "stream",
     "text": [
      "Data for KO from 2020-01-01 to 2024-11-01 has been saved to 'KO_2020-01-01_to_2024-11-01.csv'.\n",
      "DIS_2020-01-01_to_2024-11-01.csv\n"
     ]
    },
    {
     "name": "stderr",
     "output_type": "stream",
     "text": [
      "[*********************100%***********************]  1 of 1 completed\n"
     ]
    },
    {
     "name": "stdout",
     "output_type": "stream",
     "text": [
      "Data for DIS from 2020-01-01 to 2024-11-01 has been saved to 'DIS_2020-01-01_to_2024-11-01.csv'.\n",
      "XOM_2020-01-01_to_2024-11-01.csv\n"
     ]
    },
    {
     "name": "stderr",
     "output_type": "stream",
     "text": [
      "[*********************100%***********************]  1 of 1 completed\n"
     ]
    },
    {
     "name": "stdout",
     "output_type": "stream",
     "text": [
      "Data for XOM from 2020-01-01 to 2024-11-01 has been saved to 'XOM_2020-01-01_to_2024-11-01.csv'.\n",
      "GE_2020-01-01_to_2024-11-01.csv\n"
     ]
    },
    {
     "name": "stderr",
     "output_type": "stream",
     "text": [
      "[*********************100%***********************]  1 of 1 completed\n",
      "[*********************100%***********************]  1 of 1 completed\n"
     ]
    },
    {
     "name": "stdout",
     "output_type": "stream",
     "text": [
      "Data for GE from 2020-01-01 to 2024-11-01 has been saved to 'GE_2020-01-01_to_2024-11-01.csv'.\n",
      "GS_2020-01-01_to_2024-11-01.csv\n",
      "Data for GS from 2020-01-01 to 2024-11-01 has been saved to 'GS_2020-01-01_to_2024-11-01.csv'.\n",
      "HD_2020-01-01_to_2024-11-01.csv\n"
     ]
    },
    {
     "name": "stderr",
     "output_type": "stream",
     "text": [
      "[*********************100%***********************]  1 of 1 completed\n"
     ]
    },
    {
     "name": "stdout",
     "output_type": "stream",
     "text": [
      "Data for HD from 2020-01-01 to 2024-11-01 has been saved to 'HD_2020-01-01_to_2024-11-01.csv'.\n",
      "IBM_2020-01-01_to_2024-11-01.csv\n"
     ]
    },
    {
     "name": "stderr",
     "output_type": "stream",
     "text": [
      "[*********************100%***********************]  1 of 1 completed\n",
      "[*********************100%***********************]  1 of 1 completed\n"
     ]
    },
    {
     "name": "stdout",
     "output_type": "stream",
     "text": [
      "Data for IBM from 2020-01-01 to 2024-11-01 has been saved to 'IBM_2020-01-01_to_2024-11-01.csv'.\n",
      "INTC_2020-01-01_to_2024-11-01.csv\n",
      "Data for INTC from 2020-01-01 to 2024-11-01 has been saved to 'INTC_2020-01-01_to_2024-11-01.csv'.\n",
      "JNJ_2020-01-01_to_2024-11-01.csv\n"
     ]
    },
    {
     "name": "stderr",
     "output_type": "stream",
     "text": [
      "[*********************100%***********************]  1 of 1 completed\n",
      "[*********************100%***********************]  1 of 1 completed\n"
     ]
    },
    {
     "name": "stdout",
     "output_type": "stream",
     "text": [
      "Data for JNJ from 2020-01-01 to 2024-11-01 has been saved to 'JNJ_2020-01-01_to_2024-11-01.csv'.\n",
      "JPM_2020-01-01_to_2024-11-01.csv\n",
      "Data for JPM from 2020-01-01 to 2024-11-01 has been saved to 'JPM_2020-01-01_to_2024-11-01.csv'.\n",
      "MCD_2020-01-01_to_2024-11-01.csv\n"
     ]
    },
    {
     "name": "stderr",
     "output_type": "stream",
     "text": [
      "[*********************100%***********************]  1 of 1 completed\n"
     ]
    },
    {
     "name": "stdout",
     "output_type": "stream",
     "text": [
      "Data for MCD from 2020-01-01 to 2024-11-01 has been saved to 'MCD_2020-01-01_to_2024-11-01.csv'.\n",
      "MRK_2020-01-01_to_2024-11-01.csv\n"
     ]
    },
    {
     "name": "stderr",
     "output_type": "stream",
     "text": [
      "[*********************100%***********************]  1 of 1 completed\n"
     ]
    },
    {
     "name": "stdout",
     "output_type": "stream",
     "text": [
      "Data for MRK from 2020-01-01 to 2024-11-01 has been saved to 'MRK_2020-01-01_to_2024-11-01.csv'.\n",
      "MSFT_2020-01-01_to_2024-11-01.csv\n"
     ]
    },
    {
     "name": "stderr",
     "output_type": "stream",
     "text": [
      "[*********************100%***********************]  1 of 1 completed\n",
      "[*********************100%***********************]  1 of 1 completed"
     ]
    },
    {
     "name": "stdout",
     "output_type": "stream",
     "text": [
      "Data for MSFT from 2020-01-01 to 2024-11-01 has been saved to 'MSFT_2020-01-01_to_2024-11-01.csv'.\n",
      "NKE_2020-01-01_to_2024-11-01.csv\n"
     ]
    },
    {
     "name": "stderr",
     "output_type": "stream",
     "text": [
      "\n",
      "[*********************100%***********************]  1 of 1 completed"
     ]
    },
    {
     "name": "stdout",
     "output_type": "stream",
     "text": [
      "Data for NKE from 2020-01-01 to 2024-11-01 has been saved to 'NKE_2020-01-01_to_2024-11-01.csv'.\n",
      "PFE_2020-01-01_to_2024-11-01.csv\n"
     ]
    },
    {
     "name": "stderr",
     "output_type": "stream",
     "text": [
      "\n"
     ]
    },
    {
     "name": "stdout",
     "output_type": "stream",
     "text": [
      "Data for PFE from 2020-01-01 to 2024-11-01 has been saved to 'PFE_2020-01-01_to_2024-11-01.csv'.\n",
      "PG_2020-01-01_to_2024-11-01.csv\n"
     ]
    },
    {
     "name": "stderr",
     "output_type": "stream",
     "text": [
      "[*********************100%***********************]  1 of 1 completed\n",
      "[*********************100%***********************]  1 of 1 completed\n"
     ]
    },
    {
     "name": "stdout",
     "output_type": "stream",
     "text": [
      "Data for PG from 2020-01-01 to 2024-11-01 has been saved to 'PG_2020-01-01_to_2024-11-01.csv'.\n",
      "TRV_2020-01-01_to_2024-11-01.csv\n",
      "Data for TRV from 2020-01-01 to 2024-11-01 has been saved to 'TRV_2020-01-01_to_2024-11-01.csv'.\n",
      "UTX_2020-01-01_to_2024-11-01.csv\n"
     ]
    },
    {
     "name": "stderr",
     "output_type": "stream",
     "text": [
      "[*********************100%***********************]  1 of 1 completed\n",
      "\n",
      "1 Failed download:\n",
      "['UTX']: YFTzMissingError('$%ticker%: possibly delisted; no timezone found')\n",
      "[*********************100%***********************]  1 of 1 completed\n"
     ]
    },
    {
     "name": "stdout",
     "output_type": "stream",
     "text": [
      "No data found for UTX from 2020-01-01 to 2024-11-01.\n",
      "UNH_2020-01-01_to_2024-11-01.csv\n",
      "Data for UNH from 2020-01-01 to 2024-11-01 has been saved to 'UNH_2020-01-01_to_2024-11-01.csv'.\n",
      "VZ_2020-01-01_to_2024-11-01.csv\n"
     ]
    },
    {
     "name": "stderr",
     "output_type": "stream",
     "text": [
      "[*********************100%***********************]  1 of 1 completed\n",
      "[*********************100%***********************]  1 of 1 completed\n"
     ]
    },
    {
     "name": "stdout",
     "output_type": "stream",
     "text": [
      "Data for VZ from 2020-01-01 to 2024-11-01 has been saved to 'VZ_2020-01-01_to_2024-11-01.csv'.\n",
      "V_2020-01-01_to_2024-11-01.csv\n",
      "Data for V from 2020-01-01 to 2024-11-01 has been saved to 'V_2020-01-01_to_2024-11-01.csv'.\n",
      "WMT_2020-01-01_to_2024-11-01.csv\n"
     ]
    },
    {
     "name": "stderr",
     "output_type": "stream",
     "text": [
      "[*********************100%***********************]  1 of 1 completed\n",
      "[*********************100%***********************]  1 of 1 completed\n"
     ]
    },
    {
     "name": "stdout",
     "output_type": "stream",
     "text": [
      "Data for WMT from 2020-01-01 to 2024-11-01 has been saved to 'WMT_2020-01-01_to_2024-11-01.csv'.\n",
      "GOOGL_2020-01-01_to_2024-11-01.csv\n",
      "Data for GOOGL from 2020-01-01 to 2024-11-01 has been saved to 'GOOGL_2020-01-01_to_2024-11-01.csv'.\n",
      "AMZN_2020-01-01_to_2024-11-01.csv\n"
     ]
    },
    {
     "name": "stderr",
     "output_type": "stream",
     "text": [
      "[*********************100%***********************]  1 of 1 completed\n"
     ]
    },
    {
     "name": "stdout",
     "output_type": "stream",
     "text": [
      "Data for AMZN from 2020-01-01 to 2024-11-01 has been saved to 'AMZN_2020-01-01_to_2024-11-01.csv'.\n",
      "AABA_2020-01-01_to_2024-11-01.csv\n"
     ]
    },
    {
     "name": "stderr",
     "output_type": "stream",
     "text": [
      "[*********************100%***********************]  1 of 1 completed\n",
      "\n",
      "1 Failed download:\n",
      "['AABA']: YFTzMissingError('$%ticker%: possibly delisted; no timezone found')\n"
     ]
    },
    {
     "name": "stdout",
     "output_type": "stream",
     "text": [
      "No data found for AABA from 2020-01-01 to 2024-11-01.\n"
     ]
    }
   ],
   "source": [
    "stocks = ['MMM', 'AXP', 'AAPL', 'BA', 'CAT', 'CVX', 'CSCO', 'KO', 'DIS', 'XOM', 'GE',\n",
    "          'GS', 'HD', 'IBM', 'INTC', 'JNJ', 'JPM', 'MCD', 'MRK', 'MSFT', 'NKE', 'PFE',\n",
    "          'PG', 'TRV', 'UTX', 'UNH', 'VZ', 'V', 'WMT', 'GOOGL', 'AMZN', 'AABA']\n",
    "# List of 30 top stocks\n",
    "start_date = '2020-01-01'\n",
    "end_date = '2024-11-01'\n",
    "\n",
    "for ticker in stocks:\n",
    "    file_name =  ticker + '_' + start_date + '_to_' + end_date + '.csv'\n",
    "    print(file_name)\n",
    "    data = scrape_and_export_stock_data(ticker, start_date, end_date,file_name)"
   ]
  }
 ],
 "metadata": {
  "kernelspec": {
   "display_name": "Python 3",
   "language": "python",
   "name": "python3"
  },
  "language_info": {
   "codemirror_mode": {
    "name": "ipython",
    "version": 3
   },
   "file_extension": ".py",
   "mimetype": "text/x-python",
   "name": "python",
   "nbconvert_exporter": "python",
   "pygments_lexer": "ipython3",
   "version": "3.12.4"
  }
 },
 "nbformat": 4,
 "nbformat_minor": 2
}
