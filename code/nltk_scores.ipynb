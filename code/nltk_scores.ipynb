{
 "cells": [
  {
   "cell_type": "code",
   "execution_count": 1,
   "metadata": {
    "collapsed": false,
    "deletable": true,
    "editable": true
   },
   "outputs": [],
   "source": [
    "import numpy as np\n",
    "import nltk \n",
    "import pandas as pd\n",
    "import matplotlib.pyplot as plt\n",
    "import statsmodels.api as sm\n",
    "import scipy.stats as st"
   ]
  },
  {
   "cell_type": "code",
   "execution_count": 2,
   "metadata": {
    "collapsed": false,
    "deletable": true,
    "editable": true
   },
   "outputs": [],
   "source": [
    "news_csv = pd.read_csv(\"news_data/news_reuters.csv\", error_bad_lines=False, header = None, names = [\"stock\", \"company\", \"date\", \"title\", \"summary\", \"type\", \"website\"])\n",
    "google_price_csv = pd.read_csv(\"price_data/GOOGL_2020-01-01_to_2025-11-01.csv\")"
   ]
  },
  {
   "cell_type": "code",
   "execution_count": 3,
   "metadata": {
    "collapsed": false,
    "deletable": true,
    "editable": true
   },
   "outputs": [],
   "source": [
    "import nltk\n",
    "from nltk.sentiment.vader import SentimentIntensityAnalyzer\n",
    "sid = SentimentIntensityAnalyzer()"
   ]
  },
  {
   "cell_type": "code",
   "execution_count": 4,
   "metadata": {
    "collapsed": true,
    "deletable": true,
    "editable": true
   },
   "outputs": [],
   "source": [
    "number_to_month = {\"01\": \"Jan\", \"02\":\"Feb\", \"03\":\"Mar\", \"04\":\"Apr\", \"05\":\"May\", \"06\": \"Jun\", \"07\":\"Jul\", \"08\":\"Aug\", \"09\":\"Sep\", \"10\":\"Oct\", \"11\":\"Nov\", \"12\":\"Dec\"}\n",
    "def conv_num_to_string(d):\n",
    "    year = d[0:4]\n",
    "    month = d[4:6]\n",
    "    day = d[6:8]\n",
    "    new = day + \"-\" + number_to_month[month] + \"-\" + year[2:4]\n",
    "    return new "
   ]
  },
  {
   "cell_type": "code",
   "execution_count": 5,
   "metadata": {
    "collapsed": true,
    "deletable": true,
    "editable": true
   },
   "outputs": [],
   "source": [
    "def up_down_ratio(stock, day_lag): #ex: sentiment_to_price_plot(\"AAPL\", 1, 'neg')\n",
    "    stock_data = news_csv[news_csv[\"stock\"] == stock]\n",
    "    stock_price_csv = pd.read_csv(\"price_data/\"+ stock+\"_2006-01-01_to_2017-11-01.csv\")\n",
    "    total = []\n",
    "    for index, row in stock_data.iterrows():\n",
    "    \n",
    "\n",
    "        day = conv_num_to_string(str(row[\"date\"]) )\n",
    "\n",
    "        if day in stock_price_csv[\"Date\"].values:\n",
    "\n",
    "            \n",
    "\n",
    "            row_index = stock_price_csv.index[stock_price_csv[\"Date\"] == day].tolist()[0]\n",
    "            next_price = stock_price_csv.iloc[row_index - day_lag  ]\n",
    "            #print next_price[\"Date\"], google_price_csv.iloc[row_index][\"Date\"]\n",
    "            diff = next_price[\"Close\"] - next_price[\"Open\"]\n",
    "            if diff >= 0.0:\n",
    "                total.append(1) \n",
    "            else:\n",
    "                total.append(0)\n",
    "    return 100*sum(total)/len(total)\n",
    "   "
   ]
  },
  {
   "cell_type": "code",
   "execution_count": 6,
   "metadata": {
    "collapsed": false,
    "deletable": true,
    "editable": true
   },
   "outputs": [],
   "source": [
    "def sentiment_to_price_plot(stock, day_lag, pos_or_neg): #ex: sentiment_to_price_plot(\"AAPL\", 1, 'neg')\n",
    "    stock_data = news_csv[news_csv[\"stock\"] == stock]\n",
    "    stock_price_csv = pd.read_csv(stock+\"_2006-01-01_to_2017-11-01.csv\")\n",
    "    temp_x = []\n",
    "    temp_y = []\n",
    "    for index, row in stock_data.iterrows():\n",
    "        ss = sid.polarity_scores(row[\"summary\"])\n",
    "        score = ss[pos_or_neg]\n",
    "\n",
    "        day = conv_num_to_string(str(row[\"date\"]) )\n",
    "\n",
    "        if day in stock_price_csv[\"Date\"].values:\n",
    "\n",
    "            temp_x.append(score)\n",
    "\n",
    "            row_index = stock_price_csv.index[stock_price_csv[\"Date\"] == day].tolist()[0]\n",
    "            next_price = stock_price_csv.iloc[row_index - day_lag  ]\n",
    "            #print next_price[\"Date\"], google_price_csv.iloc[row_index][\"Date\"]\n",
    "            diff = next_price[\"Close\"] - next_price[\"Open\"]\n",
    "            temp_y.append(diff)\n",
    "    print st.spearmanr(temp_x, temp_y)\n",
    "    plt.plot(temp_x, temp_y, \"o\")\n",
    "    plt.ylabel(\"Closing Minus Opening after\" + str(day_lag) + \"Days\")\n",
    "    plt.xlabel(pos_or_neg + \"NLTK Vader-Sentiment Score of Current Day's Summary\")\n",
    "    plt.title(stock + \",  \" + str(day_lag) + \" Day Lag,  \" + pos_or_neg)\n",
    "    plt.show()\n",
    "    "
   ]
  },
  {
   "cell_type": "code",
   "execution_count": 17,
   "metadata": {
    "collapsed": false
   },
   "outputs": [],
   "source": [
    "def sentiment_scores_make_csv(stock, number_of_prices): \n",
    "    stock_data = news_csv[news_csv[\"stock\"] == stock]\n",
    "    stock_price_csv = pd.read_csv(\"price_data/\"+ stock+\"_2006-01-01_to_2017-11-01.csv\")\n",
    "    \n",
    "    \n",
    "    col = ['compound','neg','neu','pos','today price','y_price (next day)']\n",
    "    col = col + [ 'today-' +str(i) + 'price' for i in range(1,number_of_prices+1)  ]\n",
    "    df = pd.DataFrame(columns=col)\n",
    "    \n",
    "    counter = 0 \n",
    "    \n",
    "    for index, row in stock_data.iterrows():\n",
    "        ss = sid.polarity_scores(row[\"summary\"])\n",
    "        day = conv_num_to_string(str(row[\"date\"]) )\n",
    "        \n",
    "        if day in stock_price_csv[\"Date\"].values:\n",
    "            scores = [ss['compound'], ss['neg'], ss['neu'], ss['pos']]\n",
    "            \n",
    "            prices = []\n",
    "            \n",
    "            row_index = stock_price_csv.index[stock_price_csv[\"Date\"] == day].tolist()[0]\n",
    "            next_price = stock_price_csv.iloc[row_index - 1  ]\n",
    "            predict_closing = next_price[\"Close\"]\n",
    "            \n",
    "            prices.append(next_price[\"Open\"])\n",
    "            prices.append(next_price[\"Close\"])\n",
    "            \n",
    "            for j in range(1,number_of_prices+1):\n",
    "                temp_price = stock_price_csv.iloc[row_index + j  ]\n",
    "                prices.append(temp_price[\"Close\"])\n",
    "            \n",
    "            total_row = scores + prices\n",
    "            \n",
    "            df.loc[counter] = total_row \n",
    "            counter+=1 \n",
    "    \n",
    "    name = \"nltk_scores/\" + stock +\".csv\"\n",
    "    df.to_csv(name)\n",
    "    "
   ]
  },
  {
   "cell_type": "code",
   "execution_count": 19,
   "metadata": {
    "collapsed": false
   },
   "outputs": [],
   "source": [
    "stocks = ['GOOGL', 'INTC', 'AAPL', 'CSCO', 'AMD', 'QCOM', 'NVDA', 'AMZN', 'MSFT', 'IBM']\n",
    "\n",
    "for stk in stocks:\n",
    "    sentiment_scores_make_csv(stk, 5)"
   ]
  },
  {
   "cell_type": "code",
   "execution_count": 95,
   "metadata": {
    "collapsed": true,
    "deletable": true,
    "editable": true
   },
   "outputs": [],
   "source": [
    "def sentiment_to_volume_plot(stock, day_lag, pos_or_neg): #ex: sentiment_to_price_plot(\"AAPL\", 1, 'neg')\n",
    "    stock_data = news_csv[news_csv[\"stock\"] == stock]\n",
    "    stock_price_csv = pd.read_csv(stock+\"_2006-01-01_to_2017-11-01.csv\")\n",
    "    temp_x = []\n",
    "    temp_y = []\n",
    "    for index, row in stock_data.iterrows():\n",
    "        ss = sid.polarity_scores(row[\"summary\"])\n",
    "        score = ss[pos_or_neg]\n",
    "\n",
    "        day = conv_num_to_string(str(row[\"date\"]) )\n",
    "\n",
    "        if day in stock_price_csv[\"Date\"].values:\n",
    "\n",
    "            temp_x.append(score)\n",
    "\n",
    "            row_index = stock_price_csv.index[stock_price_csv[\"Date\"] == day].tolist()[0]\n",
    "            next_price = stock_price_csv.iloc[row_index - day_lag  ]\n",
    "            #print next_price[\"Date\"], google_price_csv.iloc[row_index][\"Date\"]\n",
    "            vol = next_price[\"Volume\"]\n",
    "            temp_y.append(vol)\n",
    "    print st.spearmanr(temp_x, temp_y)\n",
    "    plt.plot(temp_x, temp_y, \"o\")\n",
    "    plt.ylabel(\"Volume after\" + str(day_lag) + \"Days\")\n",
    "    plt.xlabel(pos_or_neg + \"NLTK Vader-Sentiment Score of Current Day's Summary\")\n",
    "    plt.title(stock + \",  \" + str(day_lag) + \" Day Lag,  \" + pos_or_neg)\n",
    "    plt.show()\n",
    "    "
   ]
  },
  {
   "cell_type": "code",
   "execution_count": 6,
   "metadata": {
    "collapsed": false,
    "deletable": true,
    "editable": true
   },
   "outputs": [],
   "source": [
    "def sentiment_to_price_plot_UP_DOWN(stock, day_lag, pos_or_neg): #ex: sentiment_to_price_plot_UP_DOWN(\"AAPL\", 1, 'neg')\n",
    "    stock_data = news_csv[news_csv[\"stock\"] == stock]\n",
    "    stock_price_csv = pd.read_csv(stock+\"_2006-01-01_to_2017-11-01.csv\")\n",
    "    temp_x = []\n",
    "    temp_y = []\n",
    "    for index, row in stock_data.iterrows():\n",
    "        ss = sid.polarity_scores(row[\"summary\"])\n",
    "        score = ss[pos_or_neg]\n",
    "\n",
    "        day = conv_num_to_string(str(row[\"date\"]) )\n",
    "\n",
    "        if day in stock_price_csv[\"Date\"].values:\n",
    "\n",
    "            temp_x.append(score)\n",
    "\n",
    "            row_index = stock_price_csv.index[stock_price_csv[\"Date\"] == day].tolist()[0]\n",
    "            next_price = stock_price_csv.iloc[row_index - day_lag  ]\n",
    "            #print next_price[\"Date\"], google_price_csv.iloc[row_index][\"Date\"]\n",
    "            diff = next_price[\"Close\"] - next_price[\"Open\"]\n",
    "            if diff > 0:\n",
    "                temp_y.append(1.0)\n",
    "            else:\n",
    "                temp_y.append(-1.0)\n",
    "\n",
    "    plt.plot(temp_x, temp_y, \"o\")\n",
    "    plt.ylabel(\"Closing Minus Opening INCREASE OR DECREASE after\" + str(day_lag) + \"Days\")\n",
    "    plt.xlabel(pos_or_neg + \"NLTK Vader-Sentiment Score of Current Day's Summary\")\n",
    "    plt.title(stock + \",  \" + str(day_lag) + \" Day Lag,  \" + pos_or_neg)\n",
    "    plt.show()\n",
    "    "
   ]
  }
 ],
 "metadata": {
  "kernelspec": {
   "display_name": "Python 2",
   "language": "python",
   "name": "python2"
  },
  "language_info": {
   "codemirror_mode": {
    "name": "ipython",
    "version": 2
   },
   "file_extension": ".py",
   "mimetype": "text/x-python",
   "name": "python",
   "nbconvert_exporter": "python",
   "pygments_lexer": "ipython2",
   "version": "2.7.12"
  }
 },
 "nbformat": 4,
 "nbformat_minor": 2
}
